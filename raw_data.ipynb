{
 "metadata": {
  "language_info": {
   "codemirror_mode": {
    "name": "ipython",
    "version": 3
   },
   "file_extension": ".py",
   "mimetype": "text/x-python",
   "name": "python",
   "nbconvert_exporter": "python",
   "pygments_lexer": "ipython3",
   "version": "3.7.0-final"
  },
  "orig_nbformat": 2,
  "kernelspec": {
   "name": "Python 3.7.0 64-bit ('mun': conda)",
   "display_name": "Python 3.7.0 64-bit ('mun': conda)",
   "metadata": {
    "interpreter": {
     "hash": "8378c1c5fd68f61f8c0782b63791a3ac8d651e4bfa45a9534f7a573cbbbb6dd4"
    }
   }
  }
 },
 "nbformat": 4,
 "nbformat_minor": 2,
 "cells": [
  {
   "cell_type": "code",
   "execution_count": 1,
   "metadata": {},
   "outputs": [],
   "source": [
    "import data_create_tool as dct\n",
    "import gzip\n",
    "import pickle\n",
    "import numpy as np\n",
    "import matplotlib.pyplot as plt\n",
    "from sklearn.impute import KNNImputer\n",
    "from tqdm import tqdm_notebook\n",
    "from pyts.preprocessing import InterpolationImputer"
   ]
  },
  {
   "cell_type": "code",
   "execution_count": 2,
   "metadata": {},
   "outputs": [],
   "source": [
    "with gzip.open(\"./dataset/org_add_rain.pickle\" ,'rb') as f:\n",
    "    org_data = pickle.load(f)"
   ]
  },
  {
   "cell_type": "code",
   "execution_count": 3,
   "metadata": {},
   "outputs": [],
   "source": [
    "org_data = org_data.fillna(0)"
   ]
  },
  {
   "cell_type": "code",
   "execution_count": 4,
   "metadata": {},
   "outputs": [],
   "source": [
    "data_by_area = org_data.copy()"
   ]
  },
  {
   "cell_type": "code",
   "execution_count": 5,
   "metadata": {
    "tags": []
   },
   "outputs": [
    {
     "output_type": "display_data",
     "data": {
      "text/plain": "HBox(children=(HTML(value=''), FloatProgress(value=0.0, max=8.0), HTML(value='')))",
      "application/vnd.jupyter.widget-view+json": {
       "version_major": 2,
       "version_minor": 0,
       "model_id": "3af9d7502e3f4da38e867e5321292d0b"
      }
     },
     "metadata": {}
    },
    {
     "output_type": "stream",
     "name": "stdout",
     "text": [
      "\n"
     ]
    }
   ],
   "source": [
    "for col in tqdm_notebook(['SO2','NO2','NO','NOX','CO','O3','PM10','PM25']):\n",
    "    flag = col + '_FLAG'\n",
    "    data_by_area[flag][data_by_area[flag] == 2] = 0\n"
   ]
  },
  {
   "cell_type": "code",
   "execution_count": 6,
   "metadata": {},
   "outputs": [
    {
     "output_type": "display_data",
     "data": {
      "text/plain": "HBox(children=(HTML(value=''), FloatProgress(value=0.0, max=8.0), HTML(value='')))",
      "application/vnd.jupyter.widget-view+json": {
       "version_major": 2,
       "version_minor": 0,
       "model_id": "b6acd31f3ce240b28945f3f850e5b65b"
      }
     },
     "metadata": {}
    },
    {
     "output_type": "stream",
     "name": "stdout",
     "text": [
      "Series([], Name: SO2_FLAG, dtype: int64)\nSeries([], Name: NO2_FLAG, dtype: int64)\nSeries([], Name: NO_FLAG, dtype: int64)\nSeries([], Name: NOX_FLAG, dtype: int64)\nSeries([], Name: CO_FLAG, dtype: int64)\nSeries([], Name: O3_FLAG, dtype: int64)\nSeries([], Name: PM10_FLAG, dtype: int64)\nSeries([], Name: PM25_FLAG, dtype: int64)\n\n"
     ]
    }
   ],
   "source": [
    "for col in tqdm_notebook(['SO2','NO2','NO','NOX','CO','O3','PM10','PM25']):\n",
    "    flag = col + '_FLAG'\n",
    "    print(data_by_area[flag][data_by_area[flag] == 2])"
   ]
  },
  {
   "cell_type": "code",
   "execution_count": 7,
   "metadata": {},
   "outputs": [],
   "source": [
    "data_by_area = data_by_area[['AREA_INDEX','MDATETIME','RAIN','SO2','NO2','NO','NOX','O3','CO','PM10','PM25','SO2_FLAG','NO2_FLAG','NO_FLAG','NOX_FLAG','O3_FLAG','CO_FLAG','PM10_FLAG','PM25_FLAG']]"
   ]
  },
  {
   "cell_type": "code",
   "execution_count": 8,
   "metadata": {},
   "outputs": [],
   "source": [
    "with gzip.open('./testset/raw_201015.pickle','wb')as f:\n",
    "    pickle.dump(data_by_area,f)"
   ]
  },
  {
   "cell_type": "code",
   "execution_count": 9,
   "metadata": {},
   "outputs": [],
   "source": [
    "data_by_area = dct.load_area_split(org_data)"
   ]
  },
  {
   "cell_type": "code",
   "execution_count": 10,
   "metadata": {},
   "outputs": [],
   "source": [
    "with gzip.open('./testset/raw_201015_by_area.pickle','wb')as f:\n",
    "    pickle.dump(data_by_area,f)"
   ]
  }
 ]
}